{
  "nbformat": 4,
  "nbformat_minor": 0,
  "metadata": {
    "colab": {
      "name": "Untitled1.ipynb",
      "provenance": [],
      "authorship_tag": "ABX9TyNfPBYmCTHsTdR8h2K27jJM",
      "include_colab_link": true
    },
    "kernelspec": {
      "name": "python3",
      "display_name": "Python 3"
    },
    "accelerator": "TPU"
  },
  "cells": [
    {
      "cell_type": "markdown",
      "metadata": {
        "id": "view-in-github",
        "colab_type": "text"
      },
      "source": [
        "<a href=\"https://colab.research.google.com/github/b-selvakumar/imad-app/blob/master/tensorflow%20intro.ipynb\" target=\"_parent\"><img src=\"https://colab.research.google.com/assets/colab-badge.svg\" alt=\"Open In Colab\"/></a>"
      ]
    },
    {
      "cell_type": "code",
      "metadata": {
        "id": "3I5qXX6xAjH_",
        "colab_type": "code",
        "colab": {}
      },
      "source": [
        "import tensorflow as tf"
      ],
      "execution_count": 0,
      "outputs": []
    },
    {
      "cell_type": "code",
      "metadata": {
        "id": "u9dxANGlAzcf",
        "colab_type": "code",
        "outputId": "c09c0459-d526-4e22-f346-6c3a28576a09",
        "colab": {
          "base_uri": "https://localhost:8080/",
          "height": 35
        }
      },
      "source": [
        "a = tf.constant(3, name= \"A\", dtype = tf.int32)\n",
        "b = tf.constant(4, name =\"B\", dtype= tf.int32)\n",
        "c = a + b\n",
        "with tf.Session() as sess :\n",
        "  print(sess.run(c))"
      ],
      "execution_count": 4,
      "outputs": [
        {
          "output_type": "stream",
          "text": [
            "7\n"
          ],
          "name": "stdout"
        }
      ]
    },
    {
      "cell_type": "code",
      "metadata": {
        "id": "rRMTAm0kBjTN",
        "colab_type": "code",
        "outputId": "40254f44-1f13-435e-e8a4-2ad2e42deeae",
        "colab": {
          "base_uri": "https://localhost:8080/",
          "height": 35
        }
      },
      "source": [
        "c = tf.add(a, b, name='add')\n",
        "with tf.Session() as sess :\n",
        "  print(sess.run(c))"
      ],
      "execution_count": 5,
      "outputs": [
        {
          "output_type": "stream",
          "text": [
            "7\n"
          ],
          "name": "stdout"
        }
      ]
    },
    {
      "cell_type": "code",
      "metadata": {
        "id": "UeAcUCb8NpbV",
        "colab_type": "code",
        "colab": {
          "base_uri": "https://localhost:8080/",
          "height": 35
        },
        "outputId": "c2467b4d-90eb-49c3-82ce-e2ae18346ee8"
      },
      "source": [
        "a = 3\n",
        "b = 4\n",
        "add_op = tf.add(a, b, name = 'add')\n",
        "mul_op = tf.multiply(a, b, name = 'multiply')\n",
        "power_op = tf.pow(mul_op, add_op, name = 'useless')\n",
        "with tf.Session() as sess:\n",
        "  add, mul, pow1 = sess.run([add_op, mul_op, power_op])\n",
        "print(add, mul, pow1)"
      ],
      "execution_count": 10,
      "outputs": [
        {
          "output_type": "stream",
          "text": [
            "7 12 35831808\n"
          ],
          "name": "stdout"
        }
      ]
    },
    {
      "cell_type": "code",
      "metadata": {
        "id": "SjEjA5NtJAO9",
        "colab_type": "code",
        "colab": {
          "base_uri": "https://localhost:8080/",
          "height": 52
        },
        "outputId": "753c125b-0997-4212-bd66-584ee43f8cb2"
      },
      "source": [
        "a = tf.constant(3, name = \"scalar\", dtype = tf.float32)\n",
        "b = tf.constant([[1, 2], [3, 4]], name = \"matrix\", dtype= tf.float32)\n",
        "c = a + b\n",
        "with tf.Session() as sess:\n",
        "  print(sess.run(c))"
      ],
      "execution_count": 14,
      "outputs": [
        {
          "output_type": "stream",
          "text": [
            "[[4. 5.]\n",
            " [6. 7.]]\n"
          ],
          "name": "stdout"
        }
      ]
    },
    {
      "cell_type": "code",
      "metadata": {
        "id": "cNiwtY_qKUlD",
        "colab_type": "code",
        "colab": {
          "base_uri": "https://localhost:8080/",
          "height": 35
        },
        "outputId": "6db91a8b-9b72-4e32-e4dc-e19f1738e946"
      },
      "source": [
        "s = tf.Variable(5)\n",
        "m = tf.Variable(10)\n",
        "d = s - m\n",
        "with tf.Session() as sess:\n",
        "  sess.run(s.assign(15))\n",
        "  sess.run(m.assign(20))\n",
        "  print(sess.run(d))"
      ],
      "execution_count": 102,
      "outputs": [
        {
          "output_type": "stream",
          "text": [
            "-5\n"
          ],
          "name": "stdout"
        }
      ]
    },
    {
      "cell_type": "code",
      "metadata": {
        "id": "mIb6VYflonAW",
        "colab_type": "code",
        "colab": {}
      },
      "source": [
        "tf.reset_default_graph()"
      ],
      "execution_count": 0,
      "outputs": []
    },
    {
      "cell_type": "code",
      "metadata": {
        "id": "e-5duWz_e0kS",
        "colab_type": "code",
        "colab": {
          "base_uri": "https://localhost:8080/",
          "height": 69
        },
        "outputId": "587cb2ec-52fb-4656-d6d9-90a26554ec1d"
      },
      "source": [
        "with tf.variable_scope(\"firstlevel\", reuse = tf.AUTO_REUSE):\n",
        "  a = tf.get_variable(name = 'A', initializer=tf.constant(15), dtype=tf.int32)\n",
        "  b = tf.get_variable(name = 'B',initializer=tf.constant(10), dtype= tf.int32)\n",
        "  sess  = tf.Session()\n",
        "  sess.run(tf.initialize_all_variables())\n",
        "  print(sess.run(a))\n",
        "  print(sess.run(b.assign(24)))\n",
        "  print ( sess.run(a+b))\n",
        "  sess.close()"
      ],
      "execution_count": 164,
      "outputs": [
        {
          "output_type": "stream",
          "text": [
            "15\n",
            "24\n",
            "39\n"
          ],
          "name": "stdout"
        }
      ]
    },
    {
      "cell_type": "code",
      "metadata": {
        "id": "PwXqR16Xe8-L",
        "colab_type": "code",
        "colab": {}
      },
      "source": [
        ""
      ],
      "execution_count": 0,
      "outputs": []
    }
  ]
}